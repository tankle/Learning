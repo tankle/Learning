{
 "cells": [
  {
   "cell_type": "code",
   "execution_count": 1,
   "metadata": {
    "collapsed": true
   },
   "outputs": [],
   "source": [
    "# 多元一次方程求解\n",
    "# 比如求解 y = w1 * x1 + w2 * x2 + ... + w5 * x5 等这样包含5个随机变量的方程\n",
    "\n",
    "import tensorflow as tf\n",
    "import numpy as np\n",
    "\n"
   ]
  },
  {
   "cell_type": "code",
   "execution_count": 53,
   "metadata": {
    "collapsed": false
   },
   "outputs": [
    {
     "data": {
      "text/plain": [
       "array([[ 48.,  11.,  44.,  70.,  15.],\n",
       "       [ 24.,  62.,  47.,  25.,   1.],\n",
       "       [ 63.,  71.,  71.,  96.,  39.],\n",
       "       [ 85.,  62.,  12.,  49.,  21.],\n",
       "       [ 70.,  14.,  83.,  20.,  75.],\n",
       "       [ 57.,  59.,   8.,  80.,  75.],\n",
       "       [  6.,  67.,  40.,  73.,  58.],\n",
       "       [ 78.,  41.,  91.,  60.,  32.],\n",
       "       [ 26.,  76.,  45.,  27.,  69.],\n",
       "       [ 24.,  88.,  84.,  31.,   4.],\n",
       "       [ 57.,  77.,  40.,  47.,  11.],\n",
       "       [ 46.,  61.,  98.,  93.,  42.],\n",
       "       [ 19.,  44.,  63.,  82.,  80.],\n",
       "       [  8.,  29.,  95.,  71.,  43.],\n",
       "       [ 39.,  42.,   7.,  32.,  49.],\n",
       "       [ 22.,  74.,  69.,   9.,  61.],\n",
       "       [ 17.,  77.,   7.,   8.,  22.],\n",
       "       [ 63.,  32.,  78.,  18.,  64.],\n",
       "       [  3.,  52.,  74.,  77.,  49.],\n",
       "       [ 59.,  15.,  11.,  47.,  66.],\n",
       "       [ 69.,  59.,  54.,  80.,  14.],\n",
       "       [ 72.,  26.,  56.,  51.,   5.],\n",
       "       [  8.,  96.,  84.,  64.,  54.],\n",
       "       [ 60.,  79.,  63.,  75.,  29.],\n",
       "       [ 56.,  69.,  34.,   0.,  20.],\n",
       "       [ 35.,  14.,  60.,  28.,  95.],\n",
       "       [ 23.,  45.,  64.,  87.,  38.],\n",
       "       [ 75.,   2.,  62.,  56.,  16.],\n",
       "       [ 25.,  41.,  84.,  46.,  38.],\n",
       "       [ 71.,  91.,  51.,  91.,  92.],\n",
       "       [ 66.,  29.,  21.,  37.,  27.],\n",
       "       [ 22.,  37.,  64.,  45.,  47.],\n",
       "       [ 60.,  91.,  50.,  77.,  54.],\n",
       "       [ 11.,  90.,  41.,  43.,  16.],\n",
       "       [  9.,  46.,  22.,   8.,  27.],\n",
       "       [ 59.,  18.,  24.,  98.,  33.],\n",
       "       [ 61.,  89.,  76.,  36.,   3.],\n",
       "       [ 40.,  70.,  38.,  65.,  60.],\n",
       "       [ 53.,  28.,  22.,  37.,  95.],\n",
       "       [ 44.,  15.,  13.,  66.,  51.],\n",
       "       [  8.,  39.,  59.,   9.,  84.],\n",
       "       [  6.,  27.,  81.,  48.,  32.],\n",
       "       [ 59.,   1.,  38.,  45.,   9.],\n",
       "       [ 85.,  55.,  93.,  10.,   1.],\n",
       "       [ 58.,  83.,  63.,  50.,  25.],\n",
       "       [ 98.,  28.,   6.,  60.,  11.],\n",
       "       [ 51.,  19.,  39.,  81.,  81.],\n",
       "       [ 53.,  24.,  96.,  69.,  85.],\n",
       "       [ 27.,  49.,  48.,  93.,  77.],\n",
       "       [ 33.,  94.,  44.,  52.,  68.],\n",
       "       [ 26.,  94.,  78.,  16.,  51.],\n",
       "       [ 63.,  59.,  20.,   5.,  44.],\n",
       "       [ 17.,  58.,   9.,  23.,  46.],\n",
       "       [ 77.,  14.,  61.,  98.,  81.],\n",
       "       [ 64.,  31.,  84.,  80.,  66.],\n",
       "       [ 70.,  32.,  32.,  47.,   6.],\n",
       "       [ 26.,  57.,  12.,  70.,  76.],\n",
       "       [ 93.,  78.,  33.,  28.,  84.],\n",
       "       [ 15.,  39.,  95.,  49.,  63.],\n",
       "       [ 19.,  79.,  87.,  59.,  89.],\n",
       "       [ 58.,  57.,  93.,  27.,  56.],\n",
       "       [ 13.,  19.,  31.,  34.,  13.],\n",
       "       [ 38.,  82.,  89.,  41.,   5.],\n",
       "       [ 69.,  27.,  12.,  75.,  33.],\n",
       "       [ 19.,  56.,  45.,  42.,  34.],\n",
       "       [ 98.,  71.,  13.,  58.,  16.],\n",
       "       [ 26.,  22.,  70.,  81.,  34.],\n",
       "       [ 20.,  76.,  10.,  67.,  77.],\n",
       "       [  9.,  57.,  72.,  46.,  37.],\n",
       "       [ 84.,  26.,  84.,  67.,  79.],\n",
       "       [ 43.,  68.,  81.,  38.,  93.],\n",
       "       [ 50.,  12.,  41.,  58.,  68.],\n",
       "       [ 54.,  92.,  33.,  67.,  96.],\n",
       "       [ 19.,  69.,  92.,  87.,  37.],\n",
       "       [ 47.,  89.,  51.,  62.,  28.],\n",
       "       [ 57.,  71.,  91.,  39.,  45.],\n",
       "       [  8.,  82.,  83.,  90.,   3.],\n",
       "       [ 57.,  68.,  22.,  46.,  47.],\n",
       "       [ 69.,  30.,  40.,  20.,  77.],\n",
       "       [ 92.,  11.,  21.,   3.,   0.],\n",
       "       [ 74.,  80.,  37.,  26.,  23.],\n",
       "       [ 20.,  48.,  14.,  19.,  10.],\n",
       "       [ 21.,  87.,  84.,  86.,  10.],\n",
       "       [ 52.,  25.,  80.,  34.,  18.],\n",
       "       [ 75.,  21.,   5.,  54.,  43.],\n",
       "       [ 98.,  99.,  11.,  70.,  84.],\n",
       "       [ 11.,  39.,  10.,  34.,  11.],\n",
       "       [ 64.,  49.,  29.,   9.,  95.],\n",
       "       [ 75.,  31.,  67.,  70.,  53.],\n",
       "       [ 56.,  83.,  44.,  91.,  94.],\n",
       "       [ 83.,  54.,  66.,  60.,  44.],\n",
       "       [ 24.,  19.,  34.,  63.,  10.],\n",
       "       [  3.,  52.,  33.,  70.,  33.],\n",
       "       [ 97.,  50.,  93.,  84.,  48.],\n",
       "       [ 11.,   1.,  33.,  76.,  20.],\n",
       "       [ 90.,  26.,  58.,  50.,  12.],\n",
       "       [ 30.,  66.,   0.,   6.,  78.],\n",
       "       [ 84.,  58.,  46.,  24.,  80.],\n",
       "       [ 42.,  98.,  35.,  58.,  20.],\n",
       "       [ 84.,  21.,  32.,  76.,  94.]], dtype=float32)"
      ]
     },
     "execution_count": 53,
     "metadata": {},
     "output_type": "execute_result"
    }
   ],
   "source": [
    "train_count = 100 # 提供10 组训练集\n",
    "w_count = 5 # 5个未知参数\n",
    "t_x = np.floor(100 * np.random.random([train_count, w_count]), dtype=np.float32)\n",
    "t_x"
   ]
  },
  {
   "cell_type": "code",
   "execution_count": 54,
   "metadata": {
    "collapsed": false
   },
   "outputs": [
    {
     "name": "stdout",
     "output_type": "stream",
     "text": [
      "[[ 1.]\n",
      " [ 2.]\n",
      " [ 1.]\n",
      " [ 4.]\n",
      " [ 8.]]\n",
      "[[  514.]\n",
      " [  303.]\n",
      " [  972.]\n",
      " [  585.]\n",
      " [  861.]\n",
      " [ 1103.]\n",
      " [  936.]\n",
      " [  747.]\n",
      " [  883.]\n",
      " [  440.]\n",
      " [  527.]\n",
      " [  974.]\n",
      " [ 1138.]\n",
      " [  789.]\n",
      " [  650.]\n",
      " [  763.]\n",
      " [  386.]\n",
      " [  789.]\n",
      " [  881.]\n",
      " [  816.]\n",
      " [  673.]\n",
      " [  424.]\n",
      " [  972.]\n",
      " [  813.]\n",
      " [  388.]\n",
      " [  995.]\n",
      " [  829.]\n",
      " [  493.]\n",
      " [  679.]\n",
      " [ 1404.]\n",
      " [  509.]\n",
      " [  716.]\n",
      " [ 1032.]\n",
      " [  532.]\n",
      " [  371.]\n",
      " [  775.]\n",
      " [  483.]\n",
      " [  958.]\n",
      " [ 1039.]\n",
      " [  759.]\n",
      " [  853.]\n",
      " [  589.]\n",
      " [  351.]\n",
      " [  336.]\n",
      " [  687.]\n",
      " [  488.]\n",
      " [ 1100.]\n",
      " [ 1153.]\n",
      " [ 1161.]\n",
      " [ 1017.]\n",
      " [  764.]\n",
      " [  573.]\n",
      " [  602.]\n",
      " [ 1206.]\n",
      " [ 1058.]\n",
      " [  402.]\n",
      " [ 1040.]\n",
      " [ 1066.]\n",
      " [  888.]\n",
      " [ 1212.]\n",
      " [  821.]\n",
      " [  322.]\n",
      " [  495.]\n",
      " [  699.]\n",
      " [  616.]\n",
      " [  613.]\n",
      " [  736.]\n",
      " [ 1066.]\n",
      " [  675.]\n",
      " [ 1120.]\n",
      " [ 1156.]\n",
      " [  891.]\n",
      " [ 1307.]\n",
      " [  893.]\n",
      " [  748.]\n",
      " [  806.]\n",
      " [  639.]\n",
      " [  775.]\n",
      " [  865.]\n",
      " [  147.]\n",
      " [  559.]\n",
      " [  286.]\n",
      " [  703.]\n",
      " [  462.]\n",
      " [  682.]\n",
      " [ 1259.]\n",
      " [  323.]\n",
      " [  987.]\n",
      " [  908.]\n",
      " [ 1382.]\n",
      " [  849.]\n",
      " [  428.]\n",
      " [  684.]\n",
      " [ 1010.]\n",
      " [  510.]\n",
      " [  496.]\n",
      " [  810.]\n",
      " [  982.]\n",
      " [  665.]\n",
      " [ 1214.]]\n"
     ]
    }
   ],
   "source": [
    "t_w = np.floor(10 * np.random.random([w_count, 1]), dtype=np.float32)\n",
    "t_y = t_x.dot(t_w) # numpy 的点积\n",
    "print(t_w)\n",
    "print(t_y)"
   ]
  },
  {
   "cell_type": "code",
   "execution_count": 55,
   "metadata": {
    "collapsed": true
   },
   "outputs": [],
   "source": [
    "# 定义x 和y 变量\n",
    "x = tf.placeholder(tf.float32, shape=[train_count, w_count])\n",
    "y = tf.placeholder(tf.float32, shape=[train_count, 1])\n"
   ]
  },
  {
   "cell_type": "code",
   "execution_count": 56,
   "metadata": {
    "collapsed": true
   },
   "outputs": [],
   "source": [
    "#w 是要求的各个参数的权重，是目标输出，对应 t_w\n",
    "w = tf.Variable(np.zeros(w_count, dtype=np.float32).reshape((w_count, 1)), tf.float32)"
   ]
  },
  {
   "cell_type": "code",
   "execution_count": 67,
   "metadata": {
    "collapsed": false
   },
   "outputs": [],
   "source": [
    "# 定义计算结果y 和损失函数，已经训练方法\n",
    "now_y = tf.matmul(x, w)\n",
    "loss = tf.reduce_sum(tf.square(now_y - y))\n",
    "optimizer = tf.train.GradientDescentOptimizer(0.000001)\n",
    "#optimizer = tf.train.AdadeltaOptimizer(0.001)\n",
    "train = optimizer.minimize(loss)"
   ]
  },
  {
   "cell_type": "code",
   "execution_count": 68,
   "metadata": {
    "collapsed": true
   },
   "outputs": [],
   "source": [
    "# 可以设置一个阈值，损失函数小于特定的值的时候就终止训练\n",
    "min_loss_value = tf.constant(1e-5)"
   ]
  },
  {
   "cell_type": "code",
   "execution_count": 69,
   "metadata": {
    "collapsed": true
   },
   "outputs": [],
   "source": [
    "sess = tf.Session()\n",
    "sess.run(tf.global_variables_initializer())\n",
    "run_count = 0\n",
    "last_loss = 0"
   ]
  },
  {
   "cell_type": "code",
   "execution_count": 70,
   "metadata": {
    "collapsed": false
   },
   "outputs": [
    {
     "name": "stdout",
     "output_type": "stream",
     "text": [
      "run count 1 , loss = 1.63319e+08  \n",
      "run count 2 , loss = 4.07436e+08  \n",
      "run count 3 , loss = 1.0228e+09  \n",
      "run count 4 , loss = 2.57218e+09  \n",
      "run count 5 , loss = 6.47191e+09  \n",
      "run count 6 , loss = 1.62865e+10  \n",
      "run count 7 , loss = 4.09865e+10  \n",
      "run count 8 , loss = 1.03148e+11  \n",
      "run count 9 , loss = 2.59585e+11  \n",
      "run count 10 , loss = 6.5328e+11  \n",
      "run count 11 , loss = 1.64407e+12  \n",
      "run count 12 , loss = 4.13752e+12  \n",
      "run count 13 , loss = 1.04126e+13  \n",
      "run count 14 , loss = 2.62048e+13  \n",
      "run count 15 , loss = 6.59479e+13  \n",
      "run count 16 , loss = 1.65967e+14  \n",
      "run count 17 , loss = 4.17678e+14  \n",
      "run count 18 , loss = 1.05114e+15  \n",
      "run count 19 , loss = 2.64535e+15  \n",
      "run count 20 , loss = 6.65737e+15  \n",
      "run count 21 , loss = 1.67542e+16  \n",
      "run count 22 , loss = 4.21642e+16  \n",
      "run count 23 , loss = 1.06112e+17  \n",
      "run count 24 , loss = 2.67045e+17  \n",
      "run count 25 , loss = 6.72055e+17  \n",
      "run count 26 , loss = 1.69132e+18  \n",
      "run count 27 , loss = 4.25643e+18  \n",
      "run count 28 , loss = 1.07119e+19  \n",
      "run count 29 , loss = 2.69579e+19  \n",
      "run count 30 , loss = 6.78432e+19  \n",
      "run count 31 , loss = 1.70737e+20  \n",
      "run count 32 , loss = 4.29682e+20  \n",
      "run count 33 , loss = 1.08135e+21  \n",
      "run count 34 , loss = 2.72137e+21  \n",
      "run count 35 , loss = 6.8487e+21  \n",
      "run count 36 , loss = 1.72357e+22  \n",
      "run count 37 , loss = 4.3376e+22  \n",
      "run count 38 , loss = 1.09162e+23  \n",
      "run count 39 , loss = 2.7472e+23  \n",
      "run count 40 , loss = 6.9137e+23  \n",
      "run count 41 , loss = 1.73993e+24  \n",
      "run count 42 , loss = 4.37876e+24  \n",
      "run count 43 , loss = 1.10197e+25  \n",
      "run count 44 , loss = 2.77327e+25  \n",
      "run count 45 , loss = 6.97931e+25  \n",
      "run count 46 , loss = 1.75644e+26  \n",
      "run count 47 , loss = 4.42032e+26  \n",
      "run count 48 , loss = 1.11243e+27  \n",
      "run count 49 , loss = 2.79959e+27  \n",
      "run count 50 , loss = 7.04554e+27  \n",
      "run count 51 , loss = 1.77311e+28  \n",
      "run count 52 , loss = 4.46226e+28  \n",
      "run count 53 , loss = 1.12299e+29  \n",
      "run count 54 , loss = 2.82616e+29  \n",
      "run count 55 , loss = 7.1124e+29  \n",
      "run count 56 , loss = 1.78993e+30  \n",
      "run count 57 , loss = 4.50461e+30  \n",
      "run count 58 , loss = 1.13365e+31  \n",
      "run count 59 , loss = 2.85297e+31  \n",
      "run count 60 , loss = 7.1799e+31  \n",
      "run count 61 , loss = 1.80692e+32  \n",
      "run count 62 , loss = 4.54736e+32  \n",
      "run count 63 , loss = 1.1444e+33  \n",
      "run count 64 , loss = 2.88005e+33  \n",
      "run count 65 , loss = 7.24803e+33  \n",
      "run count 66 , loss = 1.82406e+34  \n",
      "run count 67 , loss = 4.59051e+34  \n",
      "run count 68 , loss = 1.15526e+35  \n",
      "run count 69 , loss = 2.90738e+35  \n",
      "run count 70 , loss = 7.31681e+35  \n",
      "run count 71 , loss = 1.84137e+36  \n",
      "run count 72 , loss = 4.63407e+36  \n",
      "run count 73 , loss = 1.16623e+37  \n",
      "run count 74 , loss = 2.93497e+37  \n",
      "run count 75 , loss = 7.38624e+37  \n",
      "run count 76 , loss = 1.85885e+38  \n",
      "run count 77 , loss = inf  \n",
      "run count 78 , loss = inf  \n"
     ]
    }
   ],
   "source": [
    "while True:\n",
    "    run_count += 1\n",
    "    sess.run(train, {x:t_x, y:t_y})\n",
    "    \n",
    "    curr_loss, is_ok = sess.run([loss, loss < min_loss_value], {x:t_x, y:t_y})\n",
    "    print(\"run count %s , loss = %s  \" % (run_count, curr_loss))\n",
    "    \n",
    "    if last_loss == curr_loss:\n",
    "        break\n",
    "        \n",
    "    last_loss = curr_loss\n",
    "    \n",
    "    if is_ok or run_count >= 10000:\n",
    "        break"
   ]
  },
  {
   "cell_type": "code",
   "execution_count": 72,
   "metadata": {
    "collapsed": false
   },
   "outputs": [
    {
     "name": "stdout",
     "output_type": "stream",
     "text": [
      "[[ -1.26550889e+16]\n",
      " [ -1.39529174e+16]\n",
      " [ -1.38445941e+16]\n",
      " [ -1.43327150e+16]\n",
      " [ -1.25873122e+16]]\n",
      "inf\n"
     ]
    }
   ],
   "source": [
    "curr_w, curr_loss = sess.run([w, loss], {x:t_x, y:t_y})\n",
    "print(curr_w )\n",
    "print(curr_loss)"
   ]
  },
  {
   "cell_type": "code",
   "execution_count": null,
   "metadata": {
    "collapsed": true
   },
   "outputs": [],
   "source": []
  }
 ],
 "metadata": {
  "kernelspec": {
   "display_name": "Python 3",
   "language": "python",
   "name": "python3"
  },
  "language_info": {
   "codemirror_mode": {
    "name": "ipython",
    "version": 3
   },
   "file_extension": ".py",
   "mimetype": "text/x-python",
   "name": "python",
   "nbconvert_exporter": "python",
   "pygments_lexer": "ipython3",
   "version": "3.5.3"
  }
 },
 "nbformat": 4,
 "nbformat_minor": 0
}
